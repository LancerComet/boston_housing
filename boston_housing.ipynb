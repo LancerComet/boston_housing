{
 "cells": [
  {
   "cell_type": "markdown",
   "metadata": {},
   "source": [
    "# 机器学习工程师纳米学位\n",
    "## 模型评价与验证\n",
    "## 项目 1: 预测波士顿房价\n",
    "\n",
    "\n",
    "欢迎来到机器学习工程师纳米学位的第一个项目！在此文件中，有些示例代码已经提供给你，但你还需要实现更多的功能来让项目成功运行。除非有明确要求，你无须修改任何已给出的代码。以**'练习'**开始的标题表示接下来的内容中有需要你必须实现的功能。每一部分都会有详细的指导，需要实现的部分也会在注释中以**'TODO'**标出。请仔细阅读所有的提示！\n",
    "\n",
    "除了实现代码外，你还**必须**回答一些与项目和实现有关的问题。每一个需要你回答的问题都会以**'问题 X'**为标题。请仔细阅读每个问题，并且在问题后的**'回答'**文字框中写出完整的答案。你的项目将会根据你对问题的回答和撰写代码所实现的功能来进行评分。\n",
    "\n",
    ">**提示：**Code 和 Markdown 区域可通过 **Shift + Enter** 快捷键运行。此外，Markdown可以通过双击进入编辑模式。"
   ]
  },
  {
   "cell_type": "markdown",
   "metadata": {},
   "source": [
    "## 开始\n",
    "在这个项目中，你将利用马萨诸塞州波士顿郊区的房屋信息数据训练和测试一个模型，并对模型的性能和预测能力进行测试。通过该数据训练后的好的模型可以被用来对房屋做特定预测---尤其是对房屋的价值。对于房地产经纪等人的日常工作来说，这样的预测模型被证明非常有价值。\n",
    "\n",
    "此项目的数据集来自[UCI机器学习知识库](https://archive.ics.uci.edu/ml/datasets/Housing)。波士顿房屋这些数据于1978年开始统计，共506个数据点，涵盖了麻省波士顿不同郊区房屋14种特征的信息。本项目对原始数据集做了以下处理：\n",
    "- 有16个`'MEDV'` 值为50.0的数据点被移除。 这很可能是由于这些数据点包含**遗失**或**看不到的值**。\n",
    "- 有1个数据点的 `'RM'` 值为8.78. 这是一个异常值，已经被移除。\n",
    "- 对于本项目，房屋的`'RM'`， `'LSTAT'`，`'PTRATIO'`以及`'MEDV'`特征是必要的，其余不相关特征已经被移除。\n",
    "- `'MEDV'`特征的值已经过必要的数学转换，可以反映35年来市场的通货膨胀效应。\n",
    "\n",
    "运行下面区域的代码以载入波士顿房屋数据集，以及一些此项目所需的Python库。如果成功返回数据集的大小，表示数据集已载入成功。"
   ]
  },
  {
   "cell_type": "code",
   "execution_count": 159,
   "metadata": {
    "collapsed": false,
    "scrolled": false
   },
   "outputs": [
    {
     "name": "stdout",
     "output_type": "stream",
     "text": [
      "        RM  LSTAT  PTRATIO      MEDV\n",
      "0    6.575   4.98     15.3  504000.0\n",
      "1    6.421   9.14     17.8  453600.0\n",
      "2    7.185   4.03     17.8  728700.0\n",
      "3    6.998   2.94     18.7  701400.0\n",
      "4    7.147   5.33     18.7  760200.0\n",
      "5    6.430   5.21     18.7  602700.0\n",
      "6    6.012  12.43     15.2  480900.0\n",
      "7    6.172  19.15     15.2  569100.0\n",
      "8    5.631  29.93     15.2  346500.0\n",
      "9    6.004  17.10     15.2  396900.0\n",
      "10   6.377  20.45     15.2  315000.0\n",
      "11   6.009  13.27     15.2  396900.0\n",
      "12   5.889  15.71     15.2  455700.0\n",
      "13   5.949   8.26     21.0  428400.0\n",
      "14   6.096  10.26     21.0  382200.0\n",
      "15   5.834   8.47     21.0  417900.0\n",
      "16   5.935   6.58     21.0  485100.0\n",
      "17   5.990  14.67     21.0  367500.0\n",
      "18   5.456  11.69     21.0  424200.0\n",
      "19   5.727  11.28     21.0  382200.0\n",
      "20   5.570  21.02     21.0  285600.0\n",
      "21   5.965  13.83     21.0  411600.0\n",
      "22   6.142  18.72     21.0  319200.0\n",
      "23   5.813  19.88     21.0  304500.0\n",
      "24   5.924  16.30     21.0  327600.0\n",
      "25   5.599  16.51     21.0  291900.0\n",
      "26   5.813  14.81     21.0  348600.0\n",
      "27   6.047  17.28     21.0  310800.0\n",
      "28   6.495  12.80     21.0  386400.0\n",
      "29   6.674  11.98     21.0  441000.0\n",
      "..     ...    ...      ...       ...\n",
      "459  6.484  18.68     20.2  350700.0\n",
      "460  5.304  24.91     20.2  252000.0\n",
      "461  6.185  18.03     20.2  306600.0\n",
      "462  6.229  13.11     20.2  449400.0\n",
      "463  6.242  10.74     20.2  483000.0\n",
      "464  6.750   7.74     20.2  497700.0\n",
      "465  7.061   7.01     20.2  525000.0\n",
      "466  5.762  10.42     20.2  457800.0\n",
      "467  5.871  13.34     20.2  432600.0\n",
      "468  6.312  10.58     20.2  445200.0\n",
      "469  6.114  14.98     20.2  401100.0\n",
      "470  5.905  11.45     20.2  432600.0\n",
      "471  5.454  18.06     20.1  319200.0\n",
      "472  5.414  23.97     20.1  147000.0\n",
      "473  5.093  29.68     20.1  170100.0\n",
      "474  5.983  18.07     20.1  285600.0\n",
      "475  5.983  13.35     20.1  422100.0\n",
      "476  5.707  12.01     19.2  457800.0\n",
      "477  5.926  13.59     19.2  514500.0\n",
      "478  5.670  17.60     19.2  485100.0\n",
      "479  5.390  21.14     19.2  413700.0\n",
      "480  5.794  14.10     19.2  384300.0\n",
      "481  6.019  12.92     19.2  445200.0\n",
      "482  5.569  15.10     19.2  367500.0\n",
      "483  6.027  14.33     19.2  352800.0\n",
      "484  6.593   9.67     21.0  470400.0\n",
      "485  6.120   9.08     21.0  432600.0\n",
      "486  6.976   5.64     21.0  501900.0\n",
      "487  6.794   6.48     21.0  462000.0\n",
      "488  6.030   7.88     21.0  249900.0\n",
      "\n",
      "[489 rows x 4 columns]\n",
      "Boston housing dataset has 489 data points with 4 variables each.\n"
     ]
    }
   ],
   "source": [
    "# Import libraries necessary for this project\n",
    "# 载入此项目所需要的库\n",
    "import numpy as np\n",
    "import pandas as pd\n",
    "import visuals as vs # Supplementary code\n",
    "from sklearn.model_selection import ShuffleSplit\n",
    "\n",
    "# Pretty display for notebooks\n",
    "# 让结果在notebook中显示\n",
    "%matplotlib inline\n",
    "\n",
    "# Load the Boston housing dataset\n",
    "# 载入波士顿房屋的数据集\n",
    "data = pd.read_csv('housing.csv')\n",
    "prices = data['MEDV']\n",
    "features = data.drop('MEDV', axis = 1)\n",
    "\n",
    "print data\n",
    "    \n",
    "# Success\n",
    "# 完成\n",
    "print \"Boston housing dataset has {} data points with {} variables each.\".format(*data.shape)"
   ]
  },
  {
   "cell_type": "markdown",
   "metadata": {},
   "source": [
    "## 分析数据\n",
    "在项目的第一个部分，你会对波士顿房地产数据进行初步的观察并给出你的分析。通过对数据的探索来熟悉数据可以让你更好地理解和解释你的结果。\n",
    "\n",
    "由于这个项目的最终目标是建立一个预测房屋价值的模型，我们需要将数据集分为**特征(features)**和**目标变量(target variable)**。**特征** `'RM'`， `'LSTAT'`，和 `'PTRATIO'`，给我们提供了每个数据点的数量相关的信息。**目标变量**：` 'MEDV'`，是我们希望预测的变量。他们分别被存在`features`和`prices`两个变量名中。"
   ]
  },
  {
   "cell_type": "markdown",
   "metadata": {},
   "source": [
    "## 练习：基础统计运算\n",
    "你的第一个编程练习是计算有关波士顿房价的描述统计数据。我们已为你导入了` numpy `，你需要使用这个库来执行必要的计算。这些统计数据对于分析模型的预测结果非常重要的。\n",
    "在下面的代码中，你要做的是：\n",
    "- 计算`prices`中的`'MEDV'`的最小值、最大值、均值、中值和标准差；\n",
    "- 将运算结果储存在相应的变量中。"
   ]
  },
  {
   "cell_type": "code",
   "execution_count": 160,
   "metadata": {
    "collapsed": false
   },
   "outputs": [
    {
     "name": "stdout",
     "output_type": "stream",
     "text": [
      "Statistics for Boston housing dataset:\n",
      "\n",
      "Minimum price: $105,000.00\n",
      "Maximum price: $1,024,800.00\n",
      "Mean price: $454,342.94\n",
      "Median price $438,900.00\n",
      "Standard deviation of prices: $165,171.13\n"
     ]
    }
   ],
   "source": [
    "# TODO: Minimum price of the data\n",
    "#目标：计算价值的最小值\n",
    "minimum_price = np.min(prices)\n",
    "\n",
    "# TODO: Maximum price of the data\n",
    "#目标：计算价值的最大值\n",
    "maximum_price = np.max(prices)\n",
    "\n",
    "# TODO: Mean price of the data\n",
    "#目标：计算价值的平均值\n",
    "mean_price = np.mean(prices)\n",
    "\n",
    "# TODO: Median price of the data\n",
    "#目标：计算价值的中值\n",
    "median_price = np.median(prices)\n",
    "\n",
    "# TODO: Standard deviation of prices of the data\n",
    "#目标：计算价值的标准差\n",
    "std_price = np.std(prices)\n",
    "\n",
    "# Show the calculated statistics\n",
    "#目标：输出计算的结果\n",
    "print \"Statistics for Boston housing dataset:\\n\"\n",
    "print \"Minimum price: ${:,.2f}\".format(minimum_price)\n",
    "print \"Maximum price: ${:,.2f}\".format(maximum_price)\n",
    "print \"Mean price: ${:,.2f}\".format(mean_price)\n",
    "print \"Median price ${:,.2f}\".format(median_price)\n",
    "print \"Standard deviation of prices: ${:,.2f}\".format(std_price)"
   ]
  },
  {
   "cell_type": "markdown",
   "metadata": {},
   "source": [
    "### 问题1 - 特征观察\n",
    "\n",
    "如前文所述，本项目中我们关注的是其中三个值:`'RM'`、`'LSTAT'` 和`'PTRATIO'`，对每一个数据点:\n",
    "- `'RM'` 是该地区中每个房屋的平均房间数量；\n",
    "- `'LSTAT'` 是指该地区有多少百分比的房东属于是低收入阶层（有工作但收入微薄）；\n",
    "- `'PTRATIO'` 是该地区的中学和小学里，学生和老师的数目比（`学生/老师`）。\n",
    "\n",
    "_凭直觉，上述三个特征中对每一个来说，你认为增大该特征的数值，`'MEDV'`的值会是**增大**还是**减小**呢？每一个答案都需要你给出理由。_\n",
    "\n",
    "**提示：**你预期一个`'RM'` 值是6的房屋跟`'RM'` 值是7的房屋相比，价值更高还是更低呢？"
   ]
  },
  {
   "cell_type": "markdown",
   "metadata": {},
   "source": [
    "**回答: **\n",
    " - 当 RM 增大时，个人认为 MEDV 会增大，当房间数量增大时（房屋总面积增大），房屋价值会相应上涨.\n",
    " - 当 LSTAT 增大时，个人认为 MEDV 会变小，低收入人群过多的区域房价应该不会有太多的增高预期.\n",
    " - 当 PTRATIO 增大时，个人认为 MEDV 会增大，教育资源过于紧张会形成学区房的问题."
   ]
  },
  {
   "cell_type": "markdown",
   "metadata": {},
   "source": [
    "## 建模\n",
    "在项目的第二部分中，你需要了解必要的工具和技巧来让你的模型进行预测。用这些工具和技巧对每一个模型的表现做精确的衡量可以极大地增强你预测的信心。"
   ]
  },
  {
   "cell_type": "markdown",
   "metadata": {},
   "source": [
    "### 练习：定义衡量标准\n",
    "如果不能对模型的训练和测试的表现进行量化地评估，我们就很难衡量模型的好坏。通常我们会定义一些衡量标准，这些标准可以通过对某些误差或者拟合程度的计算来得到。在这个项目中，你将通过运算[*决定系数*](http://stattrek.com/statistics/dictionary.aspx?definition=coefficient_of_determination) R<sup>2</sup> 来量化模型的表现。模型的决定系数是回归分析中十分常用的统计信息，经常被当作衡量模型预测能力好坏的标准。\n",
    "\n",
    "R<sup>2</sup>的数值范围从0至1，表示**目标变量**的预测值和实际值之间的相关程度平方的百分比。一个模型的R<sup>2</sup> 值为0还不如直接用**平均值**来预测效果好；而一个R<sup>2</sup> 值为1的模型则可以对目标变量进行完美的预测。从0至1之间的数值，则表示该模型中目标变量中有百分之多少能够用**特征**来解释。_模型也可能出现负值的R<sup>2</sup>，这种情况下模型所做预测有时会比直接计算目标变量的平均值差很多。_\n",
    "\n",
    "在下方代码的 `performance_metric` 函数中，你要实现：\n",
    "- 使用 `sklearn.metrics` 中的 `r2_score` 来计算 `y_true` 和 `y_predict`的R<sup>2</sup>值，作为对其表现的评判。\n",
    "- 将他们的表现评分储存到`score`变量中。"
   ]
  },
  {
   "cell_type": "code",
   "execution_count": 161,
   "metadata": {
    "collapsed": false
   },
   "outputs": [],
   "source": [
    "# TODO: Import 'r2_score'\n",
    "from sklearn.metrics import r2_score\n",
    "\n",
    "def performance_metric(y_true, y_predict):\n",
    "    \"\"\" Calculates and returns the performance score between \n",
    "        true and predicted values based on the metric chosen. \"\"\"\n",
    "    \n",
    "    # TODO: Calculate the performance score between 'y_true' and 'y_predict'\n",
    "    score = r2_score(y_true, y_predict)\n",
    "    \n",
    "    # Return the score\n",
    "    return score"
   ]
  },
  {
   "cell_type": "markdown",
   "metadata": {},
   "source": [
    "### 问题2 - 拟合程度\n",
    "\n",
    "假设一个数据集有五个数据且一个模型做出下列目标变量的预测：\n",
    "\n",
    "| 真实数值 | 预测数值 |\n",
    "| :-------------: | :--------: |\n",
    "| 3.0 | 2.5 |\n",
    "| -0.5 | 0.0 |\n",
    "| 2.0 | 2.1 |\n",
    "| 7.0 | 7.8 |\n",
    "| 4.2 | 5.3 |\n",
    "*你会觉得这个模型已成功地描述了目标变量的变化吗？如果成功，请解释为什么，如果没有，也请给出原因。*  \n",
    "\n",
    "运行下方的代码，使用`performance_metric`函数来计算模型的决定系数。"
   ]
  },
  {
   "cell_type": "code",
   "execution_count": 162,
   "metadata": {
    "collapsed": false
   },
   "outputs": [
    {
     "name": "stdout",
     "output_type": "stream",
     "text": [
      "Model has a coefficient of determination, R^2, of 0.923.\n"
     ]
    }
   ],
   "source": [
    "# Calculate the performance of this model\n",
    "score = performance_metric([3, -0.5, 2, 7, 4.2], [2.5, 0.0, 2.1, 7.8, 5.3])\n",
    "print \"Model has a coefficient of determination, R^2, of {:.3f}.\".format(score)"
   ]
  },
  {
   "cell_type": "markdown",
   "metadata": {},
   "source": [
    "**回答:**\n",
    "\n",
    "个人认为本模型成功描述目标变量变化，0.923 的值已经很接近 1 了."
   ]
  },
  {
   "cell_type": "markdown",
   "metadata": {},
   "source": [
    "### 练习: 数据分割与重排\n",
    "接下来，你需要把波士顿房屋数据集分成训练和测试两个子集。通常在这个过程中，数据也会被重新排序，以消除数据集中由于排序而产生的偏差。\n",
    "在下面的代码中，你需要：\n",
    "- 使用 `sklearn.model_selection` 中的 `train_test_split`， 将`features`和`prices`的数据都分成用于训练的数据子集和用于测试的数据子集。\n",
    "  - 分割比例为：80%的数据用于训练，20%用于测试；\n",
    "  - 选定一个数值以设定 `train_test_split` 中的 `random_state` ，这会确保结果的一致性；\n",
    "- 最终分离出的子集为`X_train`,`X_test`,`y_train`,和`y_test`。"
   ]
  },
  {
   "cell_type": "code",
   "execution_count": 163,
   "metadata": {
    "collapsed": false,
    "scrolled": true
   },
   "outputs": [
    {
     "name": "stdout",
     "output_type": "stream",
     "text": [
      "Training and testing split was successful.\n"
     ]
    }
   ],
   "source": [
    "# TODO: Import 'train_test_split'\n",
    "from sklearn.model_selection import train_test_split\n",
    "\n",
    "# TODO: Shuffle and split the data into training and testing subsets\n",
    "\n",
    "# 第二次修正提交：\n",
    "# ========================\n",
    "# 上次提交没有加入 random_state 参数，在 sklean 文档搜索后找到关于此项的说明：\n",
    "#\n",
    "# The random_state parameter defaults to None, meaning that the shuffling will be different every time KFold(..., shuffle=True) is iterated.\n",
    "# However, GridSearchCV will use the same shuffling for each set of parameters validated by a single call to its fit method.\n",
    "#\n",
    "# To ensure results are repeatable (on the same platform), use a fixed value for random_state.\n",
    "#\n",
    "# 以上说明是在网格搜索的内容中找到的，应该具有参考价值.\n",
    "# 这么说来，如果不加 random_state 时模型会在预测同样的数据时却每次得出不同的值.\n",
    "#\n",
    "# 那么在下有一个问题：\n",
    "# random_state 是随便取一个值就可以么？只要保证永远用这个值，数字可以随意取么？\n",
    "#\n",
    "X_train, X_test, y_train, y_test = train_test_split(features, prices, random_state = 0, test_size = 0.2)\n",
    "\n",
    "# Success\n",
    "print \"Training and testing split was successful.\""
   ]
  },
  {
   "cell_type": "markdown",
   "metadata": {},
   "source": [
    "### 问题 3- 训练及测试\n",
    "*将数据集按一定比例分为训练用的数据集和测试用的数据集对学习算法有什么好处？*\n",
    "\n",
    "**提示：** 如果没有数据来对模型进行测试，会出现什么问题？"
   ]
  },
  {
   "cell_type": "markdown",
   "metadata": {},
   "source": [
    "**答案: **\n",
    " - 可以检测模型在独立数据下的表现.\n",
    " - 避免模型与训练数据的拟合, 保证模型泛化."
   ]
  },
  {
   "cell_type": "markdown",
   "metadata": {},
   "source": [
    "----\n",
    "\n",
    "## 分析模型的表现\n",
    "在项目的第三部分，我们来看一下几个模型针对不同的数据集在学习和测试上的表现。另外，你需要专注于一个特定的算法，用全部训练集训练时，提高它的`'max_depth'` 参数，观察这一参数的变化如何影响模型的表现。把你模型的表现画出来对于分析过程十分有益。可视化可以让我们看到一些单看结果看不到的行为。"
   ]
  },
  {
   "cell_type": "markdown",
   "metadata": {},
   "source": [
    "### 学习曲线\n",
    "下方区域内的代码会输出四幅图像，它们是一个决策树模型在不同最大深度下的表现。每一条曲线都直观的显示了随着训练数据量的增加，模型学习曲线的训练评分和测试评分的变化。注意，曲线的阴影区域代表的是该曲线的不确定性（用标准差衡量）。这个模型的训练和测试部分都使用决定系数R<sup>2</sup>来评分。\n",
    "\n",
    "运行下方区域中的代码，并利用输出的图形回答下面的问题。"
   ]
  },
  {
   "cell_type": "code",
   "execution_count": 164,
   "metadata": {
    "collapsed": false,
    "scrolled": false
   },
   "outputs": [
    {
     "data": {
      "image/png": "[encoded data removed]",
      "text/plain": [
       "<matplotlib.figure.Figure at 0xcbb8588>"
      ]
     },
     "metadata": {},
     "output_type": "display_data"
    }
   ],
   "source": [
    "# Produce learning curves for varying training set sizes and maximum depths\n",
    "vs.ModelLearning(features, prices)"
   ]
  },
  {
   "cell_type": "markdown",
   "metadata": {},
   "source": [
    "### 问题 4 - 学习数据\n",
    "*选择上述图像中的其中一个，并给出其最大深度。随着训练数据量的增加，训练曲线的评分有怎样的变化？测试曲线呢？如果有更多的训练数据，是否能有效提升模型的表现呢？*\n",
    "**提示：**学习曲线的评分是否最终会收敛到特定的值？"
   ]
  },
  {
   "cell_type": "markdown",
   "metadata": {},
   "source": [
    "**答案: **\n",
    "例如当 max_depth 为 3 的情况，随着训练数量的增加，训练曲线的值逐步降低并趋于稳定，测试曲线的结果向训练曲线集中并同样趋于稳定. 如果有更多训练数据，并不会提升模型的表现."
   ]
  },
  {
   "cell_type": "markdown",
   "metadata": {},
   "source": [
    "### 复杂度曲线\n",
    "下列代码内的区域会输出一幅图像，它展示了一个已经经过训练和验证的决策树模型在不同最大深度条件下的表现。这个图形将包含两条曲线，一个是训练的变化，一个是测试的变化。跟**学习曲线**相似，阴影区域代表该曲线的不确定性，模型训练和测试部分的评分都用的 `performance_metric` 函数。\n",
    "\n",
    "运行下方区域中的代码，并利用输出的图形并回答下面的两个问题。"
   ]
  },
  {
   "cell_type": "code",
   "execution_count": 165,
   "metadata": {
    "collapsed": false
   },
   "outputs": [
    {
     "data": {
      "image/png": "[encoded data removed]",
      "text/plain": [
       "<matplotlib.figure.Figure at 0xe7534e0>"
      ]
     },
     "metadata": {},
     "output_type": "display_data"
    }
   ],
   "source": [
    "vs.ModelComplexity(X_train, y_train)"
   ]
  },
  {
   "cell_type": "markdown",
   "metadata": {},
   "source": [
    "### 问题 5- 偏差与方差之间的权衡取舍\n",
    "*当模型以最大深度 1训练时，模型的预测是出现很大的偏差还是出现了很大的方差？当模型以最大深度10训练时，情形又如何呢？图形中的哪些特征能够支持你的结论？*\n",
    "  \n",
    "**提示：** 你如何得知模型是否出现了偏差很大或者方差很大的问题？"
   ]
  },
  {
   "cell_type": "markdown",
   "metadata": {},
   "source": [
    "**答案: **\n",
    "\n",
    "当在 1 时，训练集和验证集的分数很接近但均不高，这样看起来应该是模型本身的问题，比如为不够复杂而出现的欠拟合问题，此时出现了偏差较大的问题.\n",
    "\n",
    "当在 10 时，训练集的分数很高，但验证集的分数却很低，这应该是出现了过拟合的问题，此时出现了方差较大的问题."
   ]
  },
  {
   "cell_type": "markdown",
   "metadata": {},
   "source": [
    "### 问题 6- 最优模型的猜测\n",
    "*你认为最大深度是多少的模型能够最好地对未见过的数据进行预测？你得出这个答案的依据是什么？*"
   ]
  },
  {
   "cell_type": "markdown",
   "metadata": {},
   "source": [
    "**答案: ** 在 4 的时候，训练分数与验证分数都为较高分数，且成绩十分接近，表示没有出现过拟合的问题."
   ]
  },
  {
   "cell_type": "markdown",
   "metadata": {},
   "source": [
    "-----\n",
    "\n",
    "## 评价模型表现\n",
    "在这个项目的最后，你将自己建立模型，并使用最优化的`fit_model`函数，基于客户房子的特征来预测该房屋的价值。"
   ]
  },
  {
   "cell_type": "markdown",
   "metadata": {},
   "source": [
    "### 问题 7- 网格搜索（Grid Search）\n",
    "*什么是网格搜索法？如何用它来优化学习算法？*\n"
   ]
  },
  {
   "cell_type": "markdown",
   "metadata": {},
   "source": [
    "**回答: **\n",
    "\n",
    "网格搜索是一种寻找最优参数的一种方法，将所有情况都执行一遍并取最佳值的结果.\n",
    "\n",
    "使用网格搜索可以配合交叉验证使用来对模型进行评估."
   ]
  },
  {
   "cell_type": "markdown",
   "metadata": {},
   "source": [
    "### 问题 8- 交叉验证\n",
    "*什么是K折交叉验证法（k-fold cross-validation）？优化模型时，使用这种方法对网格搜索有什么好处？网格搜索是如何结合交叉验证来完成对最佳参数组合的选择的？* \n",
    "\n",
    "**提示：** 跟为何需要一组测试集的原因差不多，网格搜索时如果不使用交叉验证会有什么问题？GridSearchCV中的[`'cv_results'`](http://scikit-learn.org/stable/modules/generated/sklearn.model_selection.GridSearchCV.html)属性能告诉我们什么？"
   ]
  },
  {
   "cell_type": "markdown",
   "metadata": {},
   "source": [
    "**答案: **\n",
    "\n",
    "个人理解，K 折交叉验证法是一种数据的分配和验证策略，每次从数据集分割成的 K 份数据中取 1 份作为验证集，其余的 K - 1 份作为训练集使用，在某个特定参数下执行 K 次来验证参数的表现的策略.\n",
    "\n",
    "比如寻找决策树模型的 max_depth 的最佳值，我们从 max_depth = 1 开始验证，验证到 max_depth = 10.\n",
    "\n",
    "首先取分割的 10 份数据中的第 1 份作为验证集，2 - 10 份作为数据集开始对模型进行评估，得到一个分数；\n",
    "\n",
    "然后取分割的 10 份数据中的第 2 份作为验证集，1 和 3 - 10 份作为数据集开始对模型进行评估，得到一个分数；\n",
    "\n",
    "依次类推，直到最后推导到 1 - 9 份作为数据集，10 作为验证集的情况，总共获取 10 个分数，然后将这 10 个分数取平均值，就是 max_depth = 1 时的表现.\n",
    "\n",
    "然后这是一个周期，之后再进行 max_depth = 2，3 ，4 ... 10 的表现，一共 10 个周期，得到 10 个分数.\n",
    "\n",
    "最后我们取最高分所对应的 max_depth 值.\n",
    "\n",
    "网格搜索使用其遍历能力，一次次尝试执行交叉验证的每一个验证步骤来达到以上效果.\n",
    "\n",
    "使用交叉验证最大的好处是可以避免模型的拟合问题，保证模型本身的泛化能力. 因为如果拿全部数据做训练很容易出现过拟合的问题，而交叉验证将一部分数据单独提取出来作为验证集，解决了这一问题. 在最终使用测试集来测试前，已经保证了泛化能力."
   ]
  },
  {
   "cell_type": "markdown",
   "metadata": {},
   "source": [
    "### 练习：训练模型\n",
    "在最后一个练习中，你将需要将所学到的内容整合，使用**决策树演算法**训练一个模型。为了保证你得出的是一个最优模型，你需要使用网格搜索法训练模型，以找到最佳的 `'max_depth'` 参数。你可以把`'max_depth'` 参数理解为决策树算法在做出预测前，允许其对数据提出问题的数量。决策树是**监督学习算法**中的一种。\n",
    "\n",
    "此外，你会发现你的实现使用的是 `ShuffleSplit()` 。它也是交叉验证的一种方式（见变量 `'cv_sets'`）。虽然这不是**问题8**中描述的 K-Fold 交叉验证，这个教程验证方法也很有用！这里 `ShuffleSplit()` 会创造10个(`'n_splits'`)混洗过的集合，每个集合中20%(`'test_size'`)的数据会被用作**验证集**。当你在实现的时候，想一想这跟 K-Fold 交叉验证有哪些相同点，哪些不同点？\n",
    "\n",
    "在下方 `fit_model` 函数中，你需要做的是：\n",
    "- 使用  `sklearn.tree` 中的 [`DecisionTreeRegressor`](http://scikit-learn.org/stable/modules/generated/sklearn.tree.DecisionTreeRegressor.html) 创建一个决策树的回归函数；\n",
    "  - 将这个回归函数储存到 `'regressor'` 变量中；\n",
    "- 为 `'max_depth'` 创造一个字典，它的值是从1至10的数组，并储存到 `'params'` 变量中；\n",
    "- 使用 `sklearn.metrics` 中的 [`make_scorer`](http://scikit-learn.org/stable/modules/generated/sklearn.metrics.make_scorer.html)  创建一个评分函数；\n",
    "  - 将 `performance_metric` 作为参数传至这个函数中；\n",
    "  - 将评分函数储存到 `'scoring_fnc'` 变量中；\n",
    "- 使用 `sklearn.model_selection` 中的 [`GridSearchCV`](http://scikit-learn.org/stable/modules/generated/sklearn.model_selection.GridSearchCV.html) 创建一个网格搜索对象；\n",
    "  - 将变量`'regressor'`, `'params'`, `'scoring_fnc'`, 和 `'cv_sets'` 作为参数传至这个对象中；\n",
    "  - 将 `GridSearchCV` 存到 `'grid'` 变量中。\n",
    "  \n",
    "如果有同学对python函数如何传递多个参数不熟悉，可以参考这个MIT课程的[视频](http://cn-static.udacity.com/mlnd/videos/MIT600XXT114-V004200_DTH.mp4)。"
   ]
  },
  {
   "cell_type": "code",
   "execution_count": 166,
   "metadata": {
    "collapsed": false
   },
   "outputs": [],
   "source": [
    "# TODO: Import 'make_scorer', 'DecisionTreeRegressor', and 'GridSearchCV'\n",
    "from sklearn.metrics import make_scorer\n",
    "from sklearn.tree import DecisionTreeRegressor\n",
    "from sklearn.model_selection import GridSearchCV\n",
    "\n",
    "def fit_model(X, y):\n",
    "    \"\"\" Performs grid search over the 'max_depth' parameter for a \n",
    "        decision tree regressor trained on the input data [X, y]. \"\"\"\n",
    "    \n",
    "    # Create cross-validation sets from the training data\n",
    "    cv_sets = ShuffleSplit(n_splits = 10, test_size = 0.20, random_state = 0)\n",
    "    \n",
    "    # TODO: Create a decision tree regressor object\n",
    "    regressor = DecisionTreeRegressor()\n",
    "\n",
    "    # TODO: Create a dictionary for the parameter 'max_depth' with a range from 1 to 10\n",
    "    params = { 'max_depth': [1, 2, 3, 4, 5, 6, 7, 8, 9, 10] }\n",
    "\n",
    "    # TODO: Transform 'performance_metric' into a scoring function using 'make_scorer' \n",
    "    scoring_fnc = make_scorer(performance_metric)\n",
    "\n",
    "    # TODO: Create the grid search object\n",
    "    grid = GridSearchCV(regressor, params, scoring = scoring_fnc, cv = cv_sets)\n",
    "\n",
    "    # Fit the grid search object to the data to compute the optimal model\n",
    "    grid = grid.fit(X, y)\n",
    "\n",
    "    # Return the optimal model after fitting the data\n",
    "    return grid.best_estimator_"
   ]
  },
  {
   "cell_type": "markdown",
   "metadata": {},
   "source": [
    "### 做出预测\n",
    "当我们用数据训练出一个模型，它现在就可用于对新的数据进行预测。在决策树回归函数中，模型已经学会对新输入的数据*提问*，并返回对**目标变量**的预测值。你可以用这个预测来获取数据未知目标变量的信息，这些数据必须是不包含在训练数据之内的。"
   ]
  },
  {
   "cell_type": "markdown",
   "metadata": {},
   "source": [
    "### 问题 9- 最优模型\n",
    "*最优模型的最大深度（maximum depth）是多少？此答案与你在**问题 6**所做的猜测是否相同？*\n",
    "\n",
    "运行下方区域内的代码，将决策树回归函数代入训练数据的集合，以得到最优化的模型。"
   ]
  },
  {
   "cell_type": "code",
   "execution_count": 167,
   "metadata": {
    "collapsed": false,
    "scrolled": true
   },
   "outputs": [
    {
     "name": "stdout",
     "output_type": "stream",
     "text": [
      "Parameter 'max_depth' is 4 for the optimal model.\n"
     ]
    }
   ],
   "source": [
    "# Fit the training data to the model using grid search\n",
    "reg = fit_model(X_train, y_train)\n",
    "\n",
    "# Produce the value for 'max_depth'\n",
    "print \"Parameter 'max_depth' is {} for the optimal model.\".format(reg.get_params()['max_depth'])"
   ]
  },
  {
   "cell_type": "markdown",
   "metadata": {},
   "source": [
    "**Answer: ** 代码运行出来 max_depth 为 4时最佳，和猜测一致."
   ]
  },
  {
   "cell_type": "markdown",
   "metadata": {},
   "source": [
    "### 问题 10 - 预测销售价格\n",
    "想像你是一个在波士顿地区的房屋经纪人，并期待使用此模型以帮助你的客户评估他们想出售的房屋。你已经从你的三个客户收集到以下的资讯:\n",
    "\n",
    "| 特征 | 客戶 1 | 客戶 2 | 客戶 3 |\n",
    "| :---: | :---: | :---: | :---: |\n",
    "| 房屋内房间总数 | 5 间房间 | 4 间房间 | 8 间房间 |\n",
    "| 社区贫困指数（％被认为是贫困阶层） | 17% | 32% | 3% |\n",
    "| 邻近学校的学生-老师比例 | 15：1 | 22：1 | 12：1 |\n",
    "\n",
    "*你会建议每位客户的房屋销售的价格为多少？从房屋特征的数值判断，这样的价格合理吗？* \n",
    "\n",
    "**提示：**用你在**分析数据**部分计算出来的统计信息来帮助你证明你的答案。\n",
    "\n",
    "运行下列的代码区域，使用你优化的模型来为每位客户的房屋价值做出预测。"
   ]
  },
  {
   "cell_type": "code",
   "execution_count": 168,
   "metadata": {
    "collapsed": false
   },
   "outputs": [
    {
     "name": "stdout",
     "output_type": "stream",
     "text": [
      "Predicted selling price for Client 1's home: $391,183.33\n",
      "Predicted selling price for Client 2's home: $189,123.53\n",
      "Predicted selling price for Client 3's home: $942,666.67\n"
     ]
    }
   ],
   "source": [
    "# Produce a matrix for client data\n",
    "client_data = [[5, 17, 15], # Client 1\n",
    "               [4, 32, 22], # Client 2\n",
    "               [8, 3, 12]]  # Client 3\n",
    "\n",
    "# Show predictions\n",
    "for i, price in enumerate(reg.predict(client_data)):\n",
    "    print \"Predicted selling price for Client {}'s home: ${:,.2f}\".format(i+1, price)"
   ]
  },
  {
   "cell_type": "markdown",
   "metadata": {},
   "source": [
    "**答案: **\n",
    "\n",
    "模型给出的价格如下：\n",
    "\n",
    "客户 1: $391,183.33\n",
    "\n",
    "客户 2: $189,123.53\n",
    "\n",
    "客户 3: $942,666.67\n",
    "\n",
    "### 客户 1\n",
    "\n",
    "对于客户 1 的房屋，我使用 `data[data['RM'] > 5][data['RM'] < 6][data['LSTAT'] > 14][data['LSTAT'] < 20][data['PTRATIO'] > 12][data['PTRATIO'] < 18]` 来查找相近的房屋价格进行对比（LSTAT 上下相差 3%, PTRATIO 上下相差 3），并使用 np.mean 得出平均值，使用 np.std 得出标准差：\n",
    "\n",
    "平均值：\n",
    "\n",
    "```\n",
    "RM              5.752846\n",
    "LSTAT          15.758462\n",
    "PTRATIO        16.323077\n",
    "MEDV       402230.769231\n",
    "dtype: float64\n",
    "```\n",
    "\n",
    "标准差：\n",
    "\n",
    "```\n",
    "RM             0.186034\n",
    "LSTAT          0.947303\n",
    "PTRATIO        1.344593\n",
    "MEDV       53530.931168\n",
    "```\n",
    "\n",
    "所以 $391,183.33 这个价格还是比较合理的.\n",
    "\n",
    "### 客户 2\n",
    "\n",
    "对于客户 2 的房屋，我使用 `data[data['RM'] > 4][data['RM'] < 5][data['LSTAT'] > 29][data['LSTAT'] < 35][data['PTRATIO'] > 19][data['PTRATIO'] < 25]` 来查找相近的房屋价格进行对比（LSTAT 上下相差 3%, PTRATIO 上下相差 3），并使用 np.mean 得出平均值，使用 np.std 得出标准差：\n",
    "\n",
    "平均值：\n",
    "\n",
    "```\n",
    "RM              4.6955\n",
    "LSTAT          32.5975\n",
    "PTRATIO        20.2000\n",
    "MEDV       266175.0000\n",
    "dtype: float64\n",
    "```\n",
    "\n",
    "标准差：\n",
    "\n",
    "```\n",
    "RM             0.218038\n",
    "LSTAT          1.977566\n",
    "PTRATIO        0.000000\n",
    "MEDV       74028.723311\n",
    "dtype: float64\n",
    "```\n",
    "\n",
    "\n",
    "所以 $189,123.53 这个价格也是比较合理的.\n",
    "\n",
    "### 客户 3\n",
    "\n",
    "对于客户 3 的房屋，我使用 `data[data['RM'] > 8][data['RM'] < 9][data['LSTAT'] > 0][data['LSTAT'] < 3][data['PTRATIO'] > 9][data['PTRATIO'] < 15]` 来查找相近的房屋价格进行对比（LSTAT 上下相差 3%, PTRATIO 上下相差 3）.\n",
    "\n",
    "很遗憾，本查询条件无任何匹配房屋，那么放宽搜索条件，仅搜索房屋数量为 8 - 9 的房屋：\n",
    "\n",
    "```\n",
    "print data[data['RM'] > 8][data['RM'] < 9]\n",
    "\n",
    "        RM  LSTAT  PTRATIO       MEDV\n",
    "97   8.069   4.21     18.0   812700.0\n",
    "217  8.266   4.14     17.4   940800.0\n",
    "218  8.040   3.13     17.4   789600.0\n",
    "224  8.337   2.47     17.4   875700.0\n",
    "225  8.247   3.95     17.4  1014300.0\n",
    "245  8.259   3.54     19.1   898800.0\n",
    "253  8.398   5.91     13.0  1024800.0\n",
    "```\n",
    "\n",
    "平均值：\n",
    "\n",
    "```\n",
    "RM              8.230857\n",
    "LSTAT           3.907143\n",
    "PTRATIO        17.100000\n",
    "MEDV       908100.000000\n",
    "dtype: float64\n",
    "```\n",
    "\n",
    "标准差：\n",
    "\n",
    "```\n",
    "LSTAT          0.997378\n",
    "PTRATIO        1.772005\n",
    "MEDV       84723.314383\n",
    "dtype: float64\n",
    "```\n",
    "\n",
    "所以 $942,666.67 这个价格也是比较合理的."
   ]
  },
  {
   "cell_type": "markdown",
   "metadata": {},
   "source": [
    "### 敏感度\n",
    "\n",
    "一个最优的模型不一定是一个健壮模型。有的时候模型会过于复杂或者过于简单，以致于难以泛化新增添的数据；有的时候模型采用的学习算法并不适用于特定的数据结构；有的时候样本本身可能有太多噪点或样本过少，使得模型无法准确地预测目标变量。这些情况下我们会说模型是欠拟合的。执行下方区域中的代码，采用不同的训练和测试集执行 `fit_model` 函数10次。注意观察对一个特定的客户来说，预测是如何随训练数据的变化而变化的。"
   ]
  },
  {
   "cell_type": "code",
   "execution_count": 169,
   "metadata": {
    "collapsed": false
   },
   "outputs": [
    {
     "name": "stdout",
     "output_type": "stream",
     "text": [
      "Trial 1: $391,183.33\n",
      "Trial 2: $419,700.00\n",
      "Trial 3: $415,800.00\n",
      "Trial 4: $420,622.22\n",
      "Trial 5: $418,377.27\n",
      "Trial 6: $411,931.58\n",
      "Trial 7: $399,663.16\n",
      "Trial 8: $407,232.00\n",
      "Trial 9: $351,577.61\n",
      "Trial 10: $413,700.00\n",
      "\n",
      "Range in prices: $69,044.61\n"
     ]
    }
   ],
   "source": [
    "vs.PredictTrials(features, prices, fit_model, client_data)"
   ]
  },
  {
   "cell_type": "markdown",
   "metadata": {},
   "source": [
    "### 问题 11 - 实用性探讨\n",
    "*简单地讨论一下你建构的模型能否在现实世界中使用？* \n",
    "\n",
    "**提示：** 回答几个问题，并给出相应结论的理由：\n",
    "- *1978年所采集的数据，在今天是否仍然适用？*\n",
    "- *数据中呈现的特征是否足够描述一个房屋？*\n",
    "- *模型是否足够健壮来保证预测的一致性？*\n",
    "- *在波士顿这样的大都市采集的数据，能否应用在其它乡镇地区？*"
   ]
  },
  {
   "cell_type": "markdown",
   "metadata": {},
   "source": [
    "**答案: **\n",
    "\n",
    "也许并不能直接套用，在下认为原因如下：\n",
    "\n",
    " - 接近 40 年的时间差距，40 年之内货币超发量大大增加，物价已经上涨了很多.\n",
    " \n",
    " - 经济结构很可能已经产生变化，导致房屋成本、社会阶层、就业结构等改变，贫困指数会因此更改.\n",
    " \n",
    " - 教育资源也许已经进行了重分配，以前的师生比不具有代表性.\n",
    " \n",
    " - 概括来说，模型中的 LSATA 和 PTRATIO 的代表性会因时间变化而变化，也许变强，也许变弱，在重新建模之前并不知晓，最好不要直接使用."
   ]
  },
  {
   "cell_type": "markdown",
   "metadata": {},
   "source": [
    "### 可选问题 - 预测北京房价\n",
    "\n",
    "（本题结果不影响项目是否通过）通过上面的实践，相信你对机器学习的一些常用概念有了很好的领悟和掌握。但利用70年代的波士顿房价数据进行建模的确对我们来说意义不是太大。现在你可以把你上面所学应用到北京房价数据集中`bj_housing.csv`。\n",
    "\n",
    "免责声明：考虑到北京房价受到宏观经济、政策调整等众多因素的直接影响，预测结果仅供参考。\n",
    "\n",
    "这个数据集的特征有：\n",
    "- Area：房屋面积，平方米\n",
    "- Room：房间数，间\n",
    "- Living: 厅数，间\n",
    "- School: 是否为学区房，0或1\n",
    "- Year: 房屋建造时间，年\n",
    "- Floor: 房屋所处楼层，层\n",
    "\n",
    "目标变量：\n",
    "- Value: 房屋人民币售价，万\n",
    "\n",
    "你可以参考上面学到的内容，拿这个数据集来练习数据分割与重排、定义衡量标准、训练模型、评价模型表现、使用网格搜索配合交叉验证对参数进行调优并选出最佳参数，比较两者的差别，最终得出最佳模型对验证集的预测分数。"
   ]
  },
  {
   "cell_type": "code",
   "execution_count": 179,
   "metadata": {
    "collapsed": false,
    "scrolled": true
   },
   "outputs": [
    {
     "name": "stdout",
     "output_type": "stream",
     "text": [
      "[ 461.70229008  461.70229008]\n",
      "[ 359.96978022  342.5034965 ]\n",
      "[ 217.57142857  217.57142857]\n",
      "[ 661.42857143  661.42857143]\n"
     ]
    }
   ],
   "source": [
    "### 你的代码\n",
    "\n",
    "# 数据定义.\n",
    "bjData = pd.read_csv('bj_housing.csv')\n",
    "features = bjData.drop('Value', axis = 1)  # 房屋特征.\n",
    "prices = bjData['Value']  # 价格.\n",
    "\n",
    "# 分割数据.\n",
    "# 测试数据占 20%.\n",
    "bj_X_train, bj_X_test, bj_y_train, bj_y_test = train_test_split(features, prices, test_size = 0.20, random_state = 0)\n",
    "\n",
    "# 模型训练函数.\n",
    "def bjFitModel (X, y):\n",
    "  cv_set = ShuffleSplit(n_splits = 10, test_size = 0.20, random_state = 0)\n",
    "  regressor = DecisionTreeRegressor()\n",
    "  params = {'max_depth': [1, 2, 3, 4, 5, 6, 7, 8, 9, 10]}\n",
    "  scoring_fnc = make_scorer(r2_score)  # 使用 R2 检查函数创建打分.\n",
    "  grid = GridSearchCV(regressor, params, scoring = scoring_fnc, cv = cv_set)\n",
    "  grid = grid.fit(X, y)\n",
    "  return grid.best_estimator_\n",
    "\n",
    "# 建立模型.\n",
    "myModel = bjFitModel(bj_X_train, bj_y_train)\n",
    "\n",
    "# 预测一下.\n",
    "# 机器告诉我这破房 461 W，啧啧.\n",
    "# 但是，为什么这两套年代不一样的破房价格会一致……\n",
    "print myModel.predict([\n",
    "    [128, 3, 1, 1, 2004, 21],  # 128 平方的 3 室 1 厅的 2004 年的 21 层学区破房.\n",
    "    [128, 3, 1, 1, 2017, 21]   # 128 平方的 3 室 1 厅的 2017 年的 21 层学区破房.\n",
    "])\n",
    "\n",
    "# 第二次提交：\n",
    "# =========================\n",
    "# 在下换了一下房屋面积数据，发现数据有所变动：\n",
    "print myModel.predict([\n",
    "    [100, 3, 1, 1, 2004, 21],\n",
    "    [100, 3, 1, 1, 2017, 21]\n",
    "])\n",
    "\n",
    "# 然后面积再缩小或放大，预测就又开始出现问题：\n",
    "print myModel.predict([\n",
    "    [50, 3, 1, 1, 2004, 21],\n",
    "    [50, 3, 1, 1, 2017, 21]\n",
    "])\n",
    "\n",
    "print myModel.predict([\n",
    "    [200, 3, 1, 1, 2004, 21],\n",
    "    [200, 3, 1, 1, 2017, 21]\n",
    "])\n",
    "\n",
    "# 在下经过思考，认为是模型本身的问题，也许是某些地方没有正确处理,\n",
    "# 或是数据本身就不是“随着修建年份推移，房价大幅上涨”的情况，\n",
    "# 此时训练出的模型年份特征被弱化，很难去影响到房价本身.\n",
    "# 希望能经过之后的学习解决此题遗留问题."
   ]
  },
  {
   "cell_type": "markdown",
   "metadata": {},
   "source": [
    "你成功的用新的数据集构建了模型了吗？他能对测试数据进行验证吗？它的表现是否符合你的预期？交叉验证是否有助于提升你模型的表现？"
   ]
  },
  {
   "cell_type": "markdown",
   "metadata": {},
   "source": [
    "**答案：**\n",
    "\n",
    "失败了 (´；ω；`)\n",
    "\n",
    "传入不同的房屋会出来一样的价格，也许是哪里漏了步骤，等天亮了再看... (´；ω；`)\n",
    "\n",
    "在下还不是太懂整个流程，还需要多做几次这个练习."
   ]
  },
  {
   "cell_type": "markdown",
   "metadata": {},
   "source": [
    "如果你是从零开始构建机器学习的代码会让你一时觉得无从下手。这时不要着急，你要做的只是查看之前写的代码，把每一行都看明白，然后逐步构建你的模型。当中遇到什么问题也可以在我们论坛寻找答案。也许你会发现你所构建的模型的表现并没有达到你的预期，这说明机器学习并非是一项简单的任务，构建一个表现良好的模型需要长时间的研究和测试。这也是我们接下来的课程中会逐渐学到的。"
   ]
  }
 ],
 "metadata": {
  "kernelspec": {
   "display_name": "Python 2",
   "language": "python",
   "name": "python2"
  },
  "language_info": {
   "codemirror_mode": {
    "name": "ipython",
    "version": 2
   },
   "file_extension": ".py",
   "mimetype": "text/x-python",
   "name": "python",
   "nbconvert_exporter": "python",
   "pygments_lexer": "ipython2",
   "version": "2.7.13"
  }
 },
 "nbformat": 4,
 "nbformat_minor": 0
}
